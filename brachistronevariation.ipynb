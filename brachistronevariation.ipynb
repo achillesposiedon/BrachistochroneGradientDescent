{
 "cells": [
  {
   "cell_type": "code",
   "execution_count": 1,
   "metadata": {},
   "outputs": [],
   "source": [
    "import torch\n",
    "import numpy as np\n",
    "import matplotlib.pyplot as plt"
   ]
  },
  {
   "cell_type": "markdown",
   "metadata": {},
   "source": [
    "The function finds the total time taken for traversal, given a set of yk's, as described in the project report."
   ]
  },
  {
   "cell_type": "code",
   "execution_count": 2,
   "metadata": {},
   "outputs": [],
   "source": [
    "def findtime(ysol):\n",
    "\n",
    "    #ysol is an array of y values where each y corresponds to each x in xarray\n",
    "    #given y values for each of the x values in xarray,get time of descent for \n",
    "    #a point moving along the path formed by these y values and x values from xarray.\n",
    "    timetotal=0\n",
    "    for i in range(len(ysol)-1):\n",
    "\n",
    "        #calculate time for body to go from (xarray[i],ysol[i]) to (xarray[i+1],ysol[i+1])\n",
    "        #for descent on a frictionless plane in gravity, a body's velocity \n",
    "        #is determined solely by its loss in potential energy due to conservation of energy\n",
    "        vel=torch.sqrt(0.65-((ysol[i]+ysol[i+1])/2))*torch.sqrt(torch.tensor(2)*torch.tensor(9.81)) \n",
    "        \n",
    "        xdiff=xarray[i+1]-xarray[i]\n",
    "        ydiff=ysol[i+1]-ysol[i]\n",
    "\n",
    "        #distance covered = (deltax**2+deltay**2)**1/2\n",
    "    \n",
    "        dist=torch.sqrt(xdiff.pow(2)+ydiff.pow(2))\n",
    "        timei=dist/vel\n",
    "        #print(timei)\n",
    "        #add times taken to get total time.\n",
    "        timetotal=timetotal+timei\n",
    "    return timetotal"
   ]
  },
  {
   "cell_type": "markdown",
   "metadata": {},
   "source": [
    "Here, we try to arrive at a path, whose time of traversal is as near to 0.6 as possible. The total time of traversal obtained is 0.6266 and this can be even moved closer to 0.6 by training or making more iterations."
   ]
  },
  {
   "cell_type": "code",
   "execution_count": 3,
   "metadata": {},
   "outputs": [
    {
     "name": "stdout",
     "output_type": "stream",
     "text": [
      "tensor(0.7139, grad_fn=<AddBackward0>)\n",
      "tensor(0.6266, grad_fn=<AddBackward0>)\n"
     ]
    },
    {
     "data": {
      "image/png": "[encoded data removed]",
      "text/plain": [
       "<Figure size 432x288 with 1 Axes>"
      ]
     },
     "metadata": {
      "needs_background": "light"
     },
     "output_type": "display_data"
    }
   ],
   "source": [
    "#import necessary python libraries\n",
    "\n",
    "import numpy as np\n",
    "import torch\n",
    "import matplotlib.pyplot as plt\n",
    "\n",
    "g=torch.tensor(9.81) #acceleration due to gravity.\n",
    "\n",
    "#initial and final coordinates of the path\n",
    "xi,yi= torch.tensor(0),torch.tensor(0.5)\n",
    "xf,yf= torch.tensor(1),torch.tensor(0)\n",
    "\n",
    "npoints=50 #resolution of the brachistochrone curve\n",
    "\n",
    "#get npoints equally seperated points from xi to xf. and yi to yf\n",
    "xarray=torch.linspace(xi,xf,npoints) \n",
    "ysol=torch.linspace(yi,yf,npoints, requires_grad=True) #starting with a straight line solution.\n",
    "\n",
    "def findtime(ysol):\n",
    "\n",
    "    #ysol is an array of y values where each y corresponds to each x in xarray\n",
    "    #given y values for each of the x values in xarray,get time of descent for \n",
    "    #a point moving along the path formed by these y values and x values from xarray.\n",
    "    timetotal=0\n",
    "    for i in range(len(ysol)-1):\n",
    "\n",
    "        #calculate time for body to go from (xarray[i],ysol[i]) to (xarray[i+1],ysol[i+1])\n",
    "        #for descent on a frictionless plane in gravity, a body's velocity \n",
    "        #is determined solely by its loss in potential energy due to conservation of energy\n",
    "        vel=torch.sqrt(yi-(ysol[i+1]))*torch.sqrt(torch.tensor(2)*g) \n",
    "        vel=vel+torch.sqrt(yi-(ysol[i]))*torch.sqrt(torch.tensor(2)*g) \n",
    "        vel=vel/2\n",
    "        xdiff=xarray[i+1]-xarray[i]\n",
    "        ydiff=ysol[i+1]-ysol[i]\n",
    "\n",
    "        #distance covered = (deltax**2+deltay**2)**1/2\n",
    "    \n",
    "        dist=torch.sqrt(xdiff.pow(2)+ydiff.pow(2))\n",
    "        timei=dist/vel\n",
    "        #print(timei)\n",
    "        #add times taken to get total time.\n",
    "        timetotal=timetotal+timei\n",
    "    return timetotal\n",
    "\n",
    "\n",
    "#using gradient descent to arrive at a better curve, i.e. one that reduces total time\n",
    "\n",
    "learning_rate=0.005\n",
    "num_descents=2000 #number of times gradient descent is employed\n",
    "for i in range(num_descents):\n",
    "\n",
    "    totalt=findtime(ysol)\n",
    "    if i ==0:\n",
    "        print(totalt)\n",
    "    \n",
    "    #the modified total time that makes path finding for a specific time possible.\n",
    "    totalt=((totalt-torch.tensor(0.6))**2)\n",
    "    #find gradients of totalt wrt yarray.\n",
    "    totalt.backward()\n",
    "\n",
    "    gradients=ysol.grad\n",
    "    #update ysol in array\n",
    "    with torch.no_grad():\n",
    "        #update all y values except initial and final states\n",
    "        ysol[1:-1]=ysol[1:-1]-learning_rate*gradients[1:-1]\n",
    "    ysol.grad.data.zero_()\n",
    "plt.plot(xarray,ysol.detach().cpu().numpy())\n",
    "print(totalt**0.5+0.6)"
   ]
  },
  {
   "cell_type": "markdown",
   "metadata": {},
   "source": [
    "Here, we try to arrive at a path, whose time of traversal is as near to 0.7 as possible. The total time of traversal obtained is 0.7.The path obtained is almost a straight line throughput, except for a small curve at the beginning."
   ]
  },
  {
   "cell_type": "code",
   "execution_count": 4,
   "metadata": {},
   "outputs": [
    {
     "name": "stdout",
     "output_type": "stream",
     "text": [
      "tensor(0.7139, grad_fn=<AddBackward0>)\n",
      "tensor(0.7000, grad_fn=<AddBackward0>)\n"
     ]
    },
    {
     "data": {
      "image/png": "[encoded data removed]",
      "text/plain": [
       "<Figure size 432x288 with 1 Axes>"
      ]
     },
     "metadata": {
      "needs_background": "light"
     },
     "output_type": "display_data"
    }
   ],
   "source": [
    "#import necessary python libraries\n",
    "\n",
    "import numpy as np\n",
    "import torch\n",
    "import matplotlib.pyplot as plt\n",
    "\n",
    "g=torch.tensor(9.81) #acceleration due to gravity.\n",
    "\n",
    "#initial and final coordinates of the path\n",
    "xi,yi= torch.tensor(0),torch.tensor(0.5)\n",
    "xf,yf= torch.tensor(1),torch.tensor(0)\n",
    "\n",
    "npoints=50 #resolution of the brachistochrone curve\n",
    "\n",
    "#get npoints equally seperated points from xi to xf. and yi to yf\n",
    "xarray=torch.linspace(xi,xf,npoints) \n",
    "ysol=torch.linspace(yi,yf,npoints, requires_grad=True) #starting with a straight line solution.\n",
    "\n",
    "def findtime(ysol):\n",
    "\n",
    "    #ysol is an array of y values where each y corresponds to each x in xarray\n",
    "    #given y values for each of the x values in xarray,get time of descent for \n",
    "    #a point moving along the path formed by these y values and x values from xarray.\n",
    "    timetotal=0\n",
    "    for i in range(len(ysol)-1):\n",
    "\n",
    "        #calculate time for body to go from (xarray[i],ysol[i]) to (xarray[i+1],ysol[i+1])\n",
    "        #for descent on a frictionless plane in gravity, a body's velocity \n",
    "        #is determined solely by its loss in potential energy due to conservation of energy\n",
    "        vel=torch.sqrt(yi-(ysol[i+1]))*torch.sqrt(torch.tensor(2)*g) \n",
    "        vel=vel+torch.sqrt(yi-(ysol[i]))*torch.sqrt(torch.tensor(2)*g) \n",
    "        vel=vel/2\n",
    "        xdiff=xarray[i+1]-xarray[i]\n",
    "        ydiff=ysol[i+1]-ysol[i]\n",
    "\n",
    "        #distance covered = (deltax**2+deltay**2)**1/2\n",
    "    \n",
    "        dist=torch.sqrt(xdiff.pow(2)+ydiff.pow(2))\n",
    "        timei=dist/vel\n",
    "        #print(timei)\n",
    "        #add times taken to get total time.\n",
    "        timetotal=timetotal+timei\n",
    "    return timetotal\n",
    "\n",
    "\n",
    "#using gradient descent to arrive at a better curve, i.e. one that reduces total time\n",
    "\n",
    "learning_rate=0.005\n",
    "num_descents=2000 #number of times gradient descent is employed\n",
    "for i in range(num_descents):\n",
    "\n",
    "    totalt=findtime(ysol)\n",
    "    if i ==0:\n",
    "        print(totalt)\n",
    "        \n",
    "    totalt=((totalt-torch.tensor(0.7))**2)\n",
    "    totalt.backward()\n",
    "\n",
    "    gradients=ysol.grad\n",
    "    #update ysol in array\n",
    "    with torch.no_grad():\n",
    "        #update all y values except initial and final states\n",
    "        ysol[1:-1]=ysol[1:-1]-learning_rate*gradients[1:-1]\n",
    "    ysol.grad.data.zero_()\n",
    "plt.plot(xarray,ysol.detach().cpu().numpy())\n",
    "print(totalt**0.5+0.7)"
   ]
  },
  {
   "cell_type": "markdown",
   "metadata": {},
   "source": [
    "Here, we try to arrive at a path, whose time of traversal is as near to 0.7139 as possible, i.e exact time for a straight line path. The total time of traversal obtained is 0.7139 exactly and the path is a full straight line."
   ]
  },
  {
   "cell_type": "code",
   "execution_count": 5,
   "metadata": {},
   "outputs": [
    {
     "name": "stdout",
     "output_type": "stream",
     "text": [
      "tensor(0.7139, grad_fn=<AddBackward0>)\n",
      "tensor(0.7139, grad_fn=<AddBackward0>)\n"
     ]
    },
    {
     "data": {
      "image/png": "[encoded data removed]",
      "text/plain": [
       "<Figure size 432x288 with 1 Axes>"
      ]
     },
     "metadata": {
      "needs_background": "light"
     },
     "output_type": "display_data"
    }
   ],
   "source": [
    "#import necessary python libraries\n",
    "\n",
    "import numpy as np\n",
    "import torch\n",
    "import matplotlib.pyplot as plt\n",
    "\n",
    "g=torch.tensor(9.81) #acceleration due to gravity.\n",
    "\n",
    "#initial and final coordinates of the path\n",
    "xi,yi= torch.tensor(0),torch.tensor(0.5)\n",
    "xf,yf= torch.tensor(1),torch.tensor(0)\n",
    "\n",
    "npoints=50 #resolution of the brachistochrone curve\n",
    "\n",
    "#get npoints equally seperated points from xi to xf. and yi to yf\n",
    "xarray=torch.linspace(xi,xf,npoints) \n",
    "ysol=torch.linspace(yi,yf,npoints, requires_grad=True) #starting with a straight line solution.\n",
    "\n",
    "def findtime(ysol):\n",
    "\n",
    "    #ysol is an array of y values where each y corresponds to each x in xarray\n",
    "    #given y values for each of the x values in xarray,get time of descent for \n",
    "    #a point moving along the path formed by these y values and x values from xarray.\n",
    "    timetotal=0\n",
    "    for i in range(len(ysol)-1):\n",
    "\n",
    "        #calculate time for body to go from (xarray[i],ysol[i]) to (xarray[i+1],ysol[i+1])\n",
    "        #for descent on a frictionless plane in gravity, a body's velocity \n",
    "        #is determined solely by its loss in potential energy due to conservation of energy\n",
    "        vel=torch.sqrt(yi-(ysol[i+1]))*torch.sqrt(torch.tensor(2)*g) \n",
    "        vel=vel+torch.sqrt(yi-(ysol[i]))*torch.sqrt(torch.tensor(2)*g) \n",
    "        vel=vel/2\n",
    "        xdiff=xarray[i+1]-xarray[i]\n",
    "        ydiff=ysol[i+1]-ysol[i]\n",
    "\n",
    "        #distance covered = (deltax**2+deltay**2)**1/2\n",
    "    \n",
    "        dist=torch.sqrt(xdiff.pow(2)+ydiff.pow(2))\n",
    "        timei=dist/vel\n",
    "        #print(timei)\n",
    "        #add times taken to get total time.\n",
    "        timetotal=timetotal+timei\n",
    "    return timetotal\n",
    "\n",
    "\n",
    "#using gradient descent to arrive at a better curve, i.e. one that reduces total time\n",
    "\n",
    "learning_rate=0.005\n",
    "num_descents=2000 #number of times gradient descent is employed\n",
    "for i in range(num_descents):\n",
    "\n",
    "    totalt=findtime(ysol)\n",
    "    if i ==0:\n",
    "        print(totalt)\n",
    "        \n",
    "    totalt=((totalt-torch.tensor(0.7139))**2)\n",
    "    totalt.backward()\n",
    "\n",
    "    gradients=ysol.grad\n",
    "    #update ysol in array\n",
    "    with torch.no_grad():\n",
    "        #update all y values except initial and final states\n",
    "        ysol[1:-1]=ysol[1:-1]-learning_rate*gradients[1:-1]\n",
    "    ysol.grad.data.zero_()\n",
    "plt.plot(xarray,ysol.detach().cpu().numpy())\n",
    "print(totalt**0.5+0.7139)"
   ]
  },
  {
   "cell_type": "markdown",
   "metadata": {},
   "source": [
    "Here, we try to arrive at a path, whose time of traversal is as near to 0.55 as possible. The total time of traversal obtained is 0.5804 and this can be even moved closer to 0.55 by training or making more iterations."
   ]
  },
  {
   "cell_type": "code",
   "execution_count": 6,
   "metadata": {},
   "outputs": [
    {
     "name": "stdout",
     "output_type": "stream",
     "text": [
      "tensor(0.7139, grad_fn=<AddBackward0>)\n",
      "tensor(0.5804, grad_fn=<AddBackward0>)\n"
     ]
    },
    {
     "data": {
      "image/png": "[encoded data removed]",
      "text/plain": [
       "<Figure size 432x288 with 1 Axes>"
      ]
     },
     "metadata": {
      "needs_background": "light"
     },
     "output_type": "display_data"
    }
   ],
   "source": [
    "#import necessary python libraries\n",
    "\n",
    "import numpy as np\n",
    "import torch\n",
    "import matplotlib.pyplot as plt\n",
    "\n",
    "g=torch.tensor(9.81) #acceleration due to gravity.\n",
    "\n",
    "#initial and final coordinates of the path\n",
    "xi,yi= torch.tensor(0),torch.tensor(0.5)\n",
    "xf,yf= torch.tensor(1),torch.tensor(0)\n",
    "\n",
    "npoints=100 #resolution of the brachistochrone curve\n",
    "\n",
    "#get npoints equally seperated points from xi to xf. and yi to yf\n",
    "xarray=torch.linspace(xi,xf,npoints) \n",
    "ysol=torch.linspace(yi,yf,npoints, requires_grad=True) #starting with a straight line solution.\n",
    "\n",
    "def findtime(ysol):\n",
    "\n",
    "    #ysol is an array of y values where each y corresponds to each x in xarray\n",
    "    #given y values for each of the x values in xarray,get time of descent for \n",
    "    #a point moving along the path formed by these y values and x values from xarray.\n",
    "    timetotal=0\n",
    "    for i in range(len(ysol)-1):\n",
    "\n",
    "        #calculate time for body to go from (xarray[i],ysol[i]) to (xarray[i+1],ysol[i+1])\n",
    "        #for descent on a frictionless plane in gravity, a body's velocity \n",
    "        #is determined solely by its loss in potential energy due to conservation of energy\n",
    "        vel=torch.sqrt(yi-(ysol[i+1]))*torch.sqrt(torch.tensor(2)*g) \n",
    "        vel=vel+torch.sqrt(yi-(ysol[i]))*torch.sqrt(torch.tensor(2)*g) \n",
    "        vel=vel/2\n",
    "        xdiff=xarray[i+1]-xarray[i]\n",
    "        ydiff=ysol[i+1]-ysol[i]\n",
    "\n",
    "        #distance covered = (deltax**2+deltay**2)**1/2\n",
    "    \n",
    "        dist=torch.sqrt(xdiff.pow(2)+ydiff.pow(2))\n",
    "        timei=dist/vel\n",
    "        #print(timei)\n",
    "        #add times taken to get total time.\n",
    "        timetotal=timetotal+timei\n",
    "    return timetotal\n",
    "\n",
    "\n",
    "#using gradient descent to arrive at a better curve, i.e. one that reduces total time\n",
    "\n",
    "learning_rate=0.005\n",
    "num_descents=40000 #number of times gradient descent is employed\n",
    "for i in range(num_descents):\n",
    "\n",
    "    totalt=findtime(ysol)\n",
    "    if i ==0:\n",
    "        print(totalt)\n",
    "        \n",
    "    totalt=((totalt-torch.tensor(0.55))**2)\n",
    "    totalt.backward()\n",
    "\n",
    "    gradients=ysol.grad\n",
    "    #update ysol in array\n",
    "    with torch.no_grad():\n",
    "        #update all y values except initial and final states\n",
    "        ysol[1:-1]=ysol[1:-1]-learning_rate*gradients[1:-1]\n",
    "    ysol.grad.data.zero_()\n",
    "plt.plot(xarray,ysol.detach().cpu().numpy())\n",
    "print(totalt**0.5+0.55)"
   ]
  },
  {
   "cell_type": "markdown",
   "metadata": {},
   "source": [
    "Here, we try to arrive at a path, whose time of traversal is as near to 0.587 as possible. The total time of traversal obtained is 0.59 and this can be even moved closer to 0.587 by training or making more iterations."
   ]
  },
  {
   "cell_type": "code",
   "execution_count": 7,
   "metadata": {},
   "outputs": [
    {
     "name": "stdout",
     "output_type": "stream",
     "text": [
      "tensor(0.7139, grad_fn=<AddBackward0>)\n",
      "tensor(0.5904, grad_fn=<AddBackward0>)\n"
     ]
    },
    {
     "data": {
      "image/png": "[encoded data removed]",
      "text/plain": [
       "<Figure size 432x288 with 1 Axes>"
      ]
     },
     "metadata": {
      "needs_background": "light"
     },
     "output_type": "display_data"
    }
   ],
   "source": [
    "#import necessary python libraries\n",
    "\n",
    "import numpy as np\n",
    "import torch\n",
    "import matplotlib.pyplot as plt\n",
    "\n",
    "g=torch.tensor(9.81) #acceleration due to gravity.\n",
    "\n",
    "#initial and final coordinates of the path\n",
    "xi,yi= torch.tensor(0),torch.tensor(0.5)\n",
    "xf,yf= torch.tensor(1),torch.tensor(0)\n",
    "\n",
    "npoints=100 #resolution of the brachistochrone curve\n",
    "\n",
    "#get npoints equally seperated points from xi to xf. and yi to yf\n",
    "xarray=torch.linspace(xi,xf,npoints) \n",
    "ysol=torch.linspace(yi,yf,npoints, requires_grad=True) #starting with a straight line solution.\n",
    "\n",
    "def findtime(ysol):\n",
    "\n",
    "    #ysol is an array of y values where each y corresponds to each x in xarray\n",
    "    #given y values for each of the x values in xarray,get time of descent for \n",
    "    #a point moving along the path formed by these y values and x values from xarray.\n",
    "    timetotal=0\n",
    "    for i in range(len(ysol)-1):\n",
    "\n",
    "        #calculate time for body to go from (xarray[i],ysol[i]) to (xarray[i+1],ysol[i+1])\n",
    "        #for descent on a frictionless plane in gravity, a body's velocity \n",
    "        #is determined solely by its loss in potential energy due to conservation of energy\n",
    "        vel=torch.sqrt(yi-(ysol[i+1]))*torch.sqrt(torch.tensor(2)*g) \n",
    "        vel=vel+torch.sqrt(yi-(ysol[i]))*torch.sqrt(torch.tensor(2)*g) \n",
    "        vel=vel/2\n",
    "        xdiff=xarray[i+1]-xarray[i]\n",
    "        ydiff=ysol[i+1]-ysol[i]\n",
    "\n",
    "        #distance covered = (deltax**2+deltay**2)**1/2\n",
    "    \n",
    "        dist=torch.sqrt(xdiff.pow(2)+ydiff.pow(2))\n",
    "        timei=dist/vel\n",
    "        #print(timei)\n",
    "        #add times taken to get total time.\n",
    "        timetotal=timetotal+timei\n",
    "    return timetotal\n",
    "\n",
    "\n",
    "#using gradient descent to arrive at a better curve, i.e. one that reduces total time\n",
    "\n",
    "learning_rate=0.005\n",
    "num_descents=80000 #number of times gradient descent is employed\n",
    "for i in range(num_descents):\n",
    "\n",
    "    totalt=findtime(ysol)\n",
    "    if i ==0:\n",
    "        print(totalt)\n",
    "        \n",
    "    totalt=((totalt-torch.tensor(0.587))**2)\n",
    "    totalt.backward()\n",
    "\n",
    "    gradients=ysol.grad\n",
    "    #update ysol in array\n",
    "    with torch.no_grad():\n",
    "        #update all y values except initial and final states\n",
    "        ysol[1:-1]=ysol[1:-1]-learning_rate*gradients[1:-1]\n",
    "    ysol.grad.data.zero_()\n",
    "plt.plot(xarray,ysol.detach().cpu().numpy())\n",
    "print(totalt**0.5+0.587)"
   ]
  },
  {
   "cell_type": "code",
   "execution_count": 8,
   "metadata": {},
   "outputs": [
    {
     "name": "stdout",
     "output_type": "stream",
     "text": [
      "tensor(0.7139, grad_fn=<AddBackward0>)\n",
      "tensor(0.5897, grad_fn=<AddBackward0>)\n"
     ]
    },
    {
     "data": {
      "image/png": "[encoded data removed]",
      "text/plain": [
       "<Figure size 432x288 with 1 Axes>"
      ]
     },
     "metadata": {
      "needs_background": "light"
     },
     "output_type": "display_data"
    }
   ],
   "source": [
    "#import necessary python libraries\n",
    "\n",
    "import numpy as np\n",
    "import torch\n",
    "import matplotlib.pyplot as plt\n",
    "\n",
    "g=torch.tensor(9.81) #acceleration due to gravity.\n",
    "\n",
    "#initial and final coordinates of the path\n",
    "xi,yi= torch.tensor(0),torch.tensor(0.5)\n",
    "xf,yf= torch.tensor(1),torch.tensor(0)\n",
    "\n",
    "npoints=100 #resolution of the brachistochrone curve\n",
    "\n",
    "#get npoints equally seperated points from xi to xf. and yi to yf\n",
    "xarray=torch.linspace(xi,xf,npoints) \n",
    "ysol=torch.linspace(yi,yf,npoints, requires_grad=True) #starting with a straight line solution.\n",
    "\n",
    "def findtime(ysol):\n",
    "\n",
    "    #ysol is an array of y values where each y corresponds to each x in xarray\n",
    "    #given y values for each of the x values in xarray,get time of descent for \n",
    "    #a point moving along the path formed by these y values and x values from xarray.\n",
    "    timetotal=0\n",
    "    for i in range(len(ysol)-1):\n",
    "\n",
    "        #calculate time for body to go from (xarray[i],ysol[i]) to (xarray[i+1],ysol[i+1])\n",
    "        #for descent on a frictionless plane in gravity, a body's velocity \n",
    "        #is determined solely by its loss in potential energy due to conservation of energy\n",
    "        vel=torch.sqrt(yi-(ysol[i+1]))*torch.sqrt(torch.tensor(2)*g) \n",
    "        vel=vel+torch.sqrt(yi-(ysol[i]))*torch.sqrt(torch.tensor(2)*g) \n",
    "        vel=vel/2\n",
    "        xdiff=xarray[i+1]-xarray[i]\n",
    "        ydiff=ysol[i+1]-ysol[i]\n",
    "\n",
    "        #distance covered = (deltax**2+deltay**2)**1/2\n",
    "    \n",
    "        dist=torch.sqrt(xdiff.pow(2)+ydiff.pow(2))\n",
    "        timei=dist/vel\n",
    "        #print(timei)\n",
    "        #add times taken to get total time.\n",
    "        timetotal=timetotal+timei\n",
    "    return timetotal\n",
    "\n",
    "\n",
    "#using gradient descent to arrive at a better curve, i.e. one that reduces total time\n",
    "\n",
    "learning_rate=0.005\n",
    "num_descents=60000 #number of times gradient descent is employed\n",
    "for i in range(num_descents):\n",
    "\n",
    "    totalt=findtime(ysol)\n",
    "    if i ==0:\n",
    "        print(totalt)\n",
    "        \n",
    "    totalt=((totalt-torch.tensor(0.583))**2)\n",
    "    totalt.backward()\n",
    "\n",
    "    gradients=ysol.grad\n",
    "    #update ysol in array\n",
    "    with torch.no_grad():\n",
    "        #update all y values except initial and final states\n",
    "        ysol[1:-1]=ysol[1:-1]-learning_rate*gradients[1:-1]\n",
    "    ysol.grad.data.zero_()\n",
    "plt.plot(xarray,ysol.detach().cpu().numpy())\n",
    "print(totalt**0.5+0.583)"
   ]
  },
  {
   "cell_type": "markdown",
   "metadata": {},
   "source": [
    "Here, we try to arrive at a path, whose time of traversal is as near to 1.1 as possible. The total time of traversal obtained is 1.17 and this can be even moved closer to 1.1 by training or making more iterations."
   ]
  },
  {
   "cell_type": "code",
   "execution_count": 11,
   "metadata": {},
   "outputs": [
    {
     "name": "stdout",
     "output_type": "stream",
     "text": [
      "tensor(0.7139, grad_fn=<AddBackward0>)\n",
      "tensor(1.1707, grad_fn=<PowBackward0>)\n"
     ]
    },
    {
     "data": {
      "image/png": "[encoded data removed]",
      "text/plain": [
       "<Figure size 432x288 with 1 Axes>"
      ]
     },
     "metadata": {
      "needs_background": "light"
     },
     "output_type": "display_data"
    }
   ],
   "source": [
    "#import necessary python libraries\n",
    "\n",
    "import numpy as np\n",
    "import torch\n",
    "import matplotlib.pyplot as plt\n",
    "\n",
    "g=torch.tensor(9.81) #acceleration due to gravity.\n",
    "\n",
    "#initial and final coordinates of the path\n",
    "xi,yi= torch.tensor(0),torch.tensor(0.5)\n",
    "xf,yf= torch.tensor(1),torch.tensor(0)\n",
    "\n",
    "npoints=50 #resolution of the brachistochrone curve\n",
    "\n",
    "#get npoints equally seperated points from xi to xf. and yi to yf\n",
    "xarray=torch.linspace(xi,xf,npoints) \n",
    "ysol=torch.linspace(yi,yf,npoints, requires_grad=True) #starting with a straight line solution.\n",
    "\n",
    "def findtime(ysol):\n",
    "\n",
    "    #ysol is an array of y values where each y corresponds to each x in xarray\n",
    "    #given y values for each of the x values in xarray,get time of descent for \n",
    "    #a point moving along the path formed by these y values and x values from xarray.\n",
    "    timetotal=0\n",
    "    for i in range(len(ysol)-1):\n",
    "\n",
    "        #calculate time for body to go from (xarray[i],ysol[i]) to (xarray[i+1],ysol[i+1])\n",
    "        #for descent on a frictionless plane in gravity, a body's velocity \n",
    "        #is determined solely by its loss in potential energy due to conservation of energy\n",
    "        vel=torch.sqrt(yi-(ysol[i+1]))*torch.sqrt(torch.tensor(2)*g) \n",
    "        vel=vel+torch.sqrt(yi-(ysol[i]))*torch.sqrt(torch.tensor(2)*g) \n",
    "        vel=vel/2\n",
    "        xdiff=xarray[i+1]-xarray[i]\n",
    "        ydiff=ysol[i+1]-ysol[i]\n",
    "\n",
    "        #distance covered = (deltax**2+deltay**2)**1/2\n",
    "    \n",
    "        dist=torch.sqrt(xdiff.pow(2)+ydiff.pow(2))\n",
    "        timei=dist/vel\n",
    "        #print(timei)\n",
    "        #add times taken to get total time.\n",
    "        timetotal=timetotal+timei\n",
    "    return timetotal\n",
    "\n",
    "\n",
    "#using gradient descent to arrive at a better curve, i.e. one that reduces total time\n",
    "\n",
    "learning_rate=0.005\n",
    "num_descents=6000 #number of times gradient descent is employed\n",
    "for i in range(num_descents):\n",
    "\n",
    "    totalt=findtime(ysol)\n",
    "    if i ==0:\n",
    "        print(totalt)\n",
    "        \n",
    "    totalt=((totalt+torch.tensor(0.6))**2)\n",
    "    totalt.backward()\n",
    "\n",
    "    gradients=ysol.grad\n",
    "    #update ysol in array\n",
    "    with torch.no_grad():\n",
    "        #update all y values except initial and final states\n",
    "        ysol[1:-1]=ysol[1:-1]-learning_rate*gradients[1:-1]\n",
    "    ysol.grad.data.zero_()\n",
    "plt.plot(xarray,ysol.detach().cpu().numpy())\n",
    "print(totalt**0.5)"
   ]
  },
  {
   "cell_type": "markdown",
   "metadata": {},
   "source": [
    "Here, we try to arrive at a path, whose time of traversal is as near to 2*least possible time as possible."
   ]
  },
  {
   "cell_type": "code",
   "execution_count": 13,
   "metadata": {},
   "outputs": [
    {
     "name": "stdout",
     "output_type": "stream",
     "text": [
      "tensor(0.7139, grad_fn=<AddBackward0>)\n",
      "tensor(1.0684, grad_fn=<PowBackward0>)\n"
     ]
    },
    {
     "data": {
      "image/png": "[encoded data removed]",
      "text/plain": [
       "<Figure size 432x288 with 1 Axes>"
      ]
     },
     "metadata": {
      "needs_background": "light"
     },
     "output_type": "display_data"
    }
   ],
   "source": [
    "#import necessary python libraries\n",
    "\n",
    "import numpy as np\n",
    "import torch\n",
    "import matplotlib.pyplot as plt\n",
    "\n",
    "g=torch.tensor(9.81) #acceleration due to gravity.\n",
    "\n",
    "#initial and final coordinates of the path\n",
    "xi,yi= torch.tensor(0),torch.tensor(0.5)\n",
    "xf,yf= torch.tensor(1),torch.tensor(0)\n",
    "\n",
    "npoints=50 #resolution of the brachistochrone curve\n",
    "\n",
    "#get npoints equally seperated points from xi to xf. and yi to yf\n",
    "xarray=torch.linspace(xi,xf,npoints) \n",
    "ysol=torch.linspace(yi,yf,npoints, requires_grad=True) #starting with a straight line solution.\n",
    "\n",
    "def findtime(ysol):\n",
    "\n",
    "    #ysol is an array of y values where each y corresponds to each x in xarray\n",
    "    #given y values for each of the x values in xarray,get time of descent for \n",
    "    #a point moving along the path formed by these y values and x values from xarray.\n",
    "    timetotal=0\n",
    "    for i in range(len(ysol)-1):\n",
    "\n",
    "        #calculate time for body to go from (xarray[i],ysol[i]) to (xarray[i+1],ysol[i+1])\n",
    "        #for descent on a frictionless plane in gravity, a body's velocity \n",
    "        #is determined solely by its loss in potential energy due to conservation of energy\n",
    "        vel=torch.sqrt(yi-(ysol[i+1]))*torch.sqrt(torch.tensor(2)*g) \n",
    "        vel=vel+torch.sqrt(yi-(ysol[i]))*torch.sqrt(torch.tensor(2)*g) \n",
    "        vel=vel/2\n",
    "        xdiff=xarray[i+1]-xarray[i]\n",
    "        ydiff=ysol[i+1]-ysol[i]\n",
    "\n",
    "        #distance covered = (deltax**2+deltay**2)**1/2\n",
    "    \n",
    "        dist=torch.sqrt(xdiff.pow(2)+ydiff.pow(2))\n",
    "        timei=dist/vel\n",
    "        #print(timei)\n",
    "        #add times taken to get total time.\n",
    "        timetotal=timetotal+timei\n",
    "    return timetotal\n",
    "\n",
    "\n",
    "#using gradient descent to arrive at a better curve, i.e. one that reduces total time\n",
    "\n",
    "learning_rate=0.005\n",
    "num_descents=6000 #number of times gradient descent is employed\n",
    "for i in range(num_descents):\n",
    "\n",
    "    totalt=findtime(ysol)\n",
    "    if i ==0:\n",
    "        print(totalt)\n",
    "        \n",
    "    totalt=((totalt*2))\n",
    "    totalt.backward()\n",
    "\n",
    "    gradients=ysol.grad\n",
    "    #update ysol in array\n",
    "    with torch.no_grad():\n",
    "        #update all y values except initial and final states\n",
    "        ysol[1:-1]=ysol[1:-1]-learning_rate*gradients[1:-1]\n",
    "    ysol.grad.data.zero_()\n",
    "plt.plot(xarray,ysol.detach().cpu().numpy())\n",
    "print(totalt**0.5)"
   ]
  },
  {
   "cell_type": "code",
   "execution_count": null,
   "metadata": {},
   "outputs": [],
   "source": []
  }
 ],
 "metadata": {
  "kernelspec": {
   "display_name": "Python 3",
   "language": "python",
   "name": "python3"
  },
  "language_info": {
   "codemirror_mode": {
    "name": "ipython",
    "version": 3
   },
   "file_extension": ".py",
   "mimetype": "text/x-python",
   "name": "python",
   "nbconvert_exporter": "python",
   "pygments_lexer": "ipython3",
   "version": "3.8.3"
  }
 },
 "nbformat": 4,
 "nbformat_minor": 4
}
